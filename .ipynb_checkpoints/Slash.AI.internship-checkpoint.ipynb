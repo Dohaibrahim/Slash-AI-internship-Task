{
 "cells": [
  {
   "cell_type": "code",
   "execution_count": 28,
   "id": "441ab13d-36d3-434c-a39f-9e4992cc872d",
   "metadata": {
    "tags": []
   },
   "outputs": [
    {
     "name": "stdout",
     "output_type": "stream",
     "text": [
      "/Users/dohaibrahim/anaconda3/bin\n"
     ]
    }
   ],
   "source": [
    "import os\n",
    "print(os.getcwd())"
   ]
  },
  {
   "cell_type": "code",
   "execution_count": 32,
   "id": "b004914c-fe2b-4d21-8396-881af0ddf9ec",
   "metadata": {},
   "outputs": [
    {
     "name": "stdout",
     "output_type": "stream",
     "text": [
      "Overwriting task.py\n"
     ]
    }
   ],
   "source": [
    "%%writefile task.py\n",
    "import streamlit as st\n",
    "from PIL import Image\n",
    "import streamlit as st\n",
    "from ultralytics import YOLO\n",
    "import os \n",
    "import numpy as np\n",
    "\n",
    "\n",
    "import torch\n",
    "\n",
    "st.title('Hello to the image analyser')\n",
    "\n",
    "inputImage = st.file_uploader(\"select an image: \", type=[\"jpg\", \"jpeg\", \"png\"])\n",
    "\n",
    "if inputImage is not None:\n",
    "    image = Image.open(inputImage)\n",
    "    st.image(image, caption='the image successfully uploaded', use_column_width=True)\n",
    "    if st.button('Analyse Image', type=\"primary\"):\n",
    "        # Save the uploaded image to a temporary file\n",
    "        image_path = \"uploaded_image.jpg\"\n",
    "        image.save(image_path)\n",
    "        # Load the model\n",
    "        model = YOLO(\"yolov8n.pt\")  \n",
    "        \n",
    "        # Perform object detection\n",
    "        results = model(image_path)\n",
    "        #for displaying the image components\n",
    "        st.write(\"Detected components:\")\n",
    "        for result in results:\n",
    "            for box in result.boxes:\n",
    "                class_id = box.cls\n",
    "                class_name = model.names[int(class_id)]  \n",
    "                st.write(class_name)\n",
    "       \n",
    "    if st.button('display image after analysation process', type=\"primary\"):\n",
    "        image_path = \"uploaded_image.jpg\"\n",
    "        image.save(image_path)\n",
    "        model = YOLO(\"yolov8n.pt\")  \n",
    "        # Perform object detection\n",
    "        results = model(image_path)\n",
    "        annotated_image = results[0].plot()\n",
    "        st.image(annotated_image, caption='Processed Image with Detected Components', use_column_width=True)"
   ]
  }
 ],
 "metadata": {
  "kernelspec": {
   "display_name": "Python 3 (ipykernel)",
   "language": "python",
   "name": "python3"
  },
  "language_info": {
   "codemirror_mode": {
    "name": "ipython",
    "version": 3
   },
   "file_extension": ".py",
   "mimetype": "text/x-python",
   "name": "python",
   "nbconvert_exporter": "python",
   "pygments_lexer": "ipython3",
   "version": "3.11.5"
  }
 },
 "nbformat": 4,
 "nbformat_minor": 5
}
